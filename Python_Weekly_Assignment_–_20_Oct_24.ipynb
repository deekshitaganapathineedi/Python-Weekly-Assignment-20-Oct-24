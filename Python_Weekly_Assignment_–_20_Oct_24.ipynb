{
  "nbformat": 4,
  "nbformat_minor": 0,
  "metadata": {
    "colab": {
      "provenance": []
    },
    "kernelspec": {
      "name": "python3",
      "display_name": "Python 3"
    },
    "language_info": {
      "name": "python"
    }
  },
  "cells": [
    {
      "cell_type": "code",
      "execution_count": 11,
      "metadata": {
        "colab": {
          "base_uri": "https://localhost:8080/"
        },
        "id": "0TQ0QlXpWIZo",
        "outputId": "660bc83e-d5da-453f-f1a6-b622c745337b"
      },
      "outputs": [
        {
          "output_type": "stream",
          "name": "stdout",
          "text": [
            " malformed \n",
            "Average m: 79.25\n",
            "Students scoring above average:\n",
            "abc: 85.0\n",
            "def: 92.0\n"
          ]
        }
      ],
      "source": [
        "import os\n",
        "df = '/content/student.txt.txt'\n",
        "try:\n",
        "    if not os.path.exists(df):\n",
        "        raise FileNotFoundError(\"no file\")\n",
        "    arr = []\n",
        "    sum=0\n",
        "    c=0\n",
        "    f = open(df, 'r')\n",
        "    for l in f:\n",
        "        try:\n",
        "            n,m=l.strip().split(',')\n",
        "            m=float(m)\n",
        "            arr.append((n, m))\n",
        "            sum+=m\n",
        "            c+=1\n",
        "        except ValueError:\n",
        "            print(\" malformed \")\n",
        "    f.close()\n",
        "\n",
        "    if c==0:\n",
        "        print(\"No valid student records found.\")\n",
        "    else:\n",
        "\n",
        "        avg=sum/c\n",
        "        print(f\"Average m: {avg:.2f}\")\n",
        "        print(\"Students scoring above average:\")\n",
        "        for n, m in arr:\n",
        "            if m > avg:\n",
        "                print(f\"{n}: {m}\")\n",
        "except FileNotFoundError as e:\n",
        "    print(e)\n",
        "\n",
        "\n",
        "\n"
      ]
    },
    {
      "cell_type": "code",
      "source": [
        "\n",
        "with open('/content/products.txt', 'r') as f:\n",
        "    pid = [line.strip() for line in f]\n",
        "\n",
        "pid1 = sorted(set(pid))\n",
        "print(\"Cleaned Product IDs:\", pid1)\n"
      ],
      "metadata": {
        "colab": {
          "base_uri": "https://localhost:8080/"
        },
        "id": "L8nNRwDle7cO",
        "outputId": "40ee941b-b8db-4cf9-be74-e664c3dfea72"
      },
      "execution_count": 12,
      "outputs": [
        {
          "output_type": "stream",
          "name": "stdout",
          "text": [
            "Cleaned Product IDs: ['101', '102', '103', '104', '105']\n"
          ]
        }
      ]
    },
    {
      "cell_type": "code",
      "source": [
        "sales_data = '/content/sales.txt'\n",
        "i_dict = {}\n",
        "\n",
        "with open(sales_data, 'r') as f:\n",
        "    for l in f:\n",
        "        n, a = l.strip().split(',')\n",
        "        a = float(a)\n",
        "        if n in i_dict:\n",
        "            i_dict[n] += a\n",
        "        else:\n",
        "            i_dict[n] = a\n",
        "\n",
        "for i in sorted(i_dict):\n",
        "    print(f\"{i}: {i_dict[i]}\")\n"
      ],
      "metadata": {
        "colab": {
          "base_uri": "https://localhost:8080/"
        },
        "id": "VYa4_RcBe8O0",
        "outputId": "dbf31722-c063-42b0-ff55-bdd628b97ba5"
      },
      "execution_count": 13,
      "outputs": [
        {
          "output_type": "stream",
          "name": "stdout",
          "text": [
            "abc: 100.0\n",
            "def: 30.0\n",
            "lmn: 200.0\n",
            "uvw: 40.0\n",
            "xyz: 300.0\n"
          ]
        }
      ]
    },
    {
      "cell_type": "code",
      "source": [
        "import pickle\n",
        "import os\n",
        "\n",
        "pf = '/content/user_preferences.pkl'\n",
        "p = {'theme': 'dark', 'language': 'English', 'notifications': True}\n",
        "\n",
        "try:\n",
        "    with open(pf, 'wb') as f:\n",
        "        pickle.dump(p, f)\n",
        "except Exception as e:\n",
        "    print(e)\n",
        "\n",
        "if os.path.exists(pf):\n",
        "    try:\n",
        "        with open(pf, 'rb') as f:\n",
        "            load = pickle.load(f)\n",
        "            print( load)\n",
        "    except Exception as e:\n",
        "        print( e)\n",
        "else:\n",
        "    print(\"Preferences file not found.\")\n"
      ],
      "metadata": {
        "colab": {
          "base_uri": "https://localhost:8080/"
        },
        "id": "DQYJ7lLBe--A",
        "outputId": "4a18311b-7c99-4124-eda0-4d5707636aaf"
      },
      "execution_count": 14,
      "outputs": [
        {
          "output_type": "stream",
          "name": "stdout",
          "text": [
            "{'theme': 'dark', 'language': 'English', 'notifications': True}\n"
          ]
        }
      ]
    },
    {
      "cell_type": "code",
      "source": [
        "import pandas as pd\n",
        "\n",
        "file_path = 'employee.csv'\n",
        "try:\n",
        "    df = pd.read_csv(file_path)\n",
        "    if df.empty:\n",
        "        raise ValueError(\"The file is empty.\")\n",
        "\n",
        "    ds = df.groupby('Department')['Salary'].agg(['sum', 'mean'])\n",
        "    ds.to_csv('department.csv')\n",
        "    print(ds)\n",
        "except (FileNotFoundError, ValueError) as e:\n",
        "    print(e)\n"
      ],
      "metadata": {
        "colab": {
          "base_uri": "https://localhost:8080/"
        },
        "id": "x8hSMc7ZfKhP",
        "outputId": "12c7d61c-ac9f-4937-c3c3-32e85d9e96d0"
      },
      "execution_count": 15,
      "outputs": [
        {
          "output_type": "stream",
          "name": "stdout",
          "text": [
            "               sum      mean\n",
            "Department                  \n",
            "finance      20000   20000.0\n",
            "hr           75000   75000.0\n",
            "it           50000   50000.0\n",
            "logistics    60000   60000.0\n",
            "operations  100000  100000.0\n"
          ]
        }
      ]
    },
    {
      "cell_type": "code",
      "source": [
        "import re\n",
        "\n",
        "def validate_emails(path):\n",
        "    ve = []\n",
        "    with open(path, 'r') as f:\n",
        "        emails = f.read().splitlines()\n",
        "\n",
        "    for i in emails:\n",
        "        if re.match(r\"[^@]+@[^@]+\\.[^@]+\", i):\n",
        "            ve.append(i)\n",
        "        else:\n",
        "            print(f\"Invalid email: {i}\")\n",
        "\n",
        "    return ve\n",
        "\n",
        "path = 'email.txt.txt'\n",
        "vl = validate_emails(path)\n",
        "print(\"Valid Emails:\", vl)\n"
      ],
      "metadata": {
        "colab": {
          "base_uri": "https://localhost:8080/"
        },
        "id": "vLLOmtz6fMyI",
        "outputId": "cfc120b6-d75d-447c-aa0f-87ccdeab3fb7"
      },
      "execution_count": 16,
      "outputs": [
        {
          "output_type": "stream",
          "name": "stdout",
          "text": [
            "Invalid email: invalid-email\n",
            "Invalid email: xyz@domain\n",
            "Valid Emails: ['abc@example.com', 'uvw@world.com']\n"
          ]
        }
      ]
    },
    {
      "cell_type": "code",
      "source": [
        "def convert(amount,r):\n",
        "    if not isinstance(amount, (int, float)) or not isinstance(r, (int, float)):\n",
        "        raise ValueError(\"Amount and rate must be numeric.\")\n",
        "    if r==0:\n",
        "        raise ValueError(\"Conversion rate2 cannot be zero.\")\n",
        "\n",
        "    return amount*r\n",
        "\n",
        "try:\n",
        "    cost = float(input(\"Enter amount \"))\n",
        "    rate = float(input(\"conversion rate: \"))\n",
        "    result = convert(cost, rate)\n",
        "    print(f\"Converted Amount: {result}\")\n",
        "except ValueError as e:\n",
        "    print(e)\n"
      ],
      "metadata": {
        "colab": {
          "base_uri": "https://localhost:8080/"
        },
        "id": "9frybqkLfPNW",
        "outputId": "2f1891d6-c5ce-4b6c-8cc9-93b22c954be0"
      },
      "execution_count": 17,
      "outputs": [
        {
          "output_type": "stream",
          "name": "stdout",
          "text": [
            "Enter amount 63\n",
            "conversion rate: 22\n",
            "Converted Amount: 1386.0\n"
          ]
        }
      ]
    },
    {
      "cell_type": "code",
      "source": [
        "with open('movie.txt.txt', 'r') as f:\n",
        "    ratings = [int(line.strip()) for line in f]\n",
        "\n",
        "arr = [i**2 for i in ratings if i>= 5]\n",
        "print(arr)\n"
      ],
      "metadata": {
        "colab": {
          "base_uri": "https://localhost:8080/"
        },
        "id": "Lssf7MpMfRg7",
        "outputId": "581a1909-b5de-4a4c-cbfd-e53a1047e25f"
      },
      "execution_count": 18,
      "outputs": [
        {
          "output_type": "stream",
          "name": "stdout",
          "text": [
            "[25, 49, 64, 100]\n"
          ]
        }
      ]
    },
    {
      "cell_type": "code",
      "source": [
        "import re\n",
        "\n",
        "def func(path):\n",
        "    arr = []\n",
        "    with open(path, 'r') as f:\n",
        "        for i in f:\n",
        "            match = re.findall(r'\\(?\\d{3}\\)?[-.\\s]?\\d{3}[-.\\s]?\\d{4}', i)\n",
        "            arr.extend(match)\n",
        "\n",
        "    return arr\n",
        "\n",
        "path = 'contact.txt.txt'\n",
        "brr = func(path)\n",
        "print(\"Valid Phone Numbers:\", brr)\n"
      ],
      "metadata": {
        "colab": {
          "base_uri": "https://localhost:8080/"
        },
        "id": "LPQcrmh3fTRy",
        "outputId": "f173bfc9-b187-4338-fc86-6de6a81c4c48"
      },
      "execution_count": 19,
      "outputs": [
        {
          "output_type": "stream",
          "name": "stdout",
          "text": [
            "Valid Phone Numbers: ['(123) 456-7890', '123-456-7890']\n"
          ]
        }
      ]
    },
    {
      "cell_type": "code",
      "source": [
        "arr = set()\n",
        "\n",
        "with open('customers.txt.txt', 'r') as f:\n",
        "    for line in f:\n",
        "        arr.add(line.strip())\n",
        "\n",
        "print(\"Unique Customers:\")\n",
        "for i in arr:\n",
        "    print(i)\n"
      ],
      "metadata": {
        "colab": {
          "base_uri": "https://localhost:8080/"
        },
        "id": "qjwsulCXfV4t",
        "outputId": "10e72fc7-d06d-4da5-ec84-7b685ba0d610"
      },
      "execution_count": 20,
      "outputs": [
        {
          "output_type": "stream",
          "name": "stdout",
          "text": [
            "Unique Customers:\n",
            "abc,abc@example.com\n",
            "uvw,uvw@example.com\n",
            "xyz,xyz@example.com\n"
          ]
        }
      ]
    },
    {
      "cell_type": "code",
      "source": [
        "import pandas as pd\n",
        "\n",
        "path = 'inventory.csv'\n",
        "try:\n",
        "    df = pd.read_csv(path)\n",
        "    ans = df[df['Quantity'] < 10]\n",
        "\n",
        "    print(ans)\n",
        "except (FileNotFoundError, pd.errors.EmptyDataError) as e:\n",
        "    print(e)\n"
      ],
      "metadata": {
        "colab": {
          "base_uri": "https://localhost:8080/"
        },
        "id": "YC0hqu3ufWe3",
        "outputId": "286f571d-7083-4821-d06e-34f29ed1478f"
      },
      "execution_count": 21,
      "outputs": [
        {
          "output_type": "stream",
          "name": "stdout",
          "text": [
            "   ProductID ProductName  Quantity\n",
            "1          2    Widget B         5\n",
            "2          3    Widget C         2\n"
          ]
        }
      ]
    },
    {
      "cell_type": "code",
      "source": [
        "import numpy as np\n",
        "\n",
        "arr = np.random.randint(0, 101, size=100)\n",
        "mean = np.mean(arr)\n",
        "median = np.median(arr)\n",
        "variance = np.var(arr)\n",
        "sd = np.std(arr)\n",
        "\n",
        "print(f\"Mean: {mean}, Median: {median}, Variance: {variance}, Standard Deviation: {sd}\")\n"
      ],
      "metadata": {
        "colab": {
          "base_uri": "https://localhost:8080/"
        },
        "id": "6_-f7aAVfY8-",
        "outputId": "7517435f-8a4e-46fe-d488-fb90cbf885e3"
      },
      "execution_count": 22,
      "outputs": [
        {
          "output_type": "stream",
          "name": "stdout",
          "text": [
            "Mean: 45.5, Median: 47.0, Variance: 854.41, Standard Deviation: 29.230292506234008\n"
          ]
        }
      ]
    },
    {
      "cell_type": "code",
      "source": [
        "import pickle\n",
        "import os\n",
        "\n",
        "tasks_file = 'tasks.pkl'\n",
        "\n",
        "def save(tasks):\n",
        "    with open(tasks_file, 'wb') as f:\n",
        "        pickle.dump(tasks, f)\n",
        "\n",
        "def load():\n",
        "    if not os.path.exists(tasks_file):\n",
        "        raise FileNotFoundError(\"not found\")\n",
        "    with open(tasks_file, 'rb') as f:\n",
        "        return pickle.load(f)\n",
        "\n",
        "try:\n",
        "    tasks = ['Task 1','Task 2','Task 3']\n",
        "    save(tasks)\n",
        "    print(\"Tasks saved.\")\n",
        "\n",
        "    ans = load()\n",
        "    print(\"Loaded Tasks:\", ans)\n",
        "except FileNotFoundError as e:\n",
        "    print(e)\n"
      ],
      "metadata": {
        "colab": {
          "base_uri": "https://localhost:8080/"
        },
        "id": "t2tFuxXrfbEl",
        "outputId": "b5bb5498-4733-4e62-ed4d-ce4c36516df1"
      },
      "execution_count": 23,
      "outputs": [
        {
          "output_type": "stream",
          "name": "stdout",
          "text": [
            "Tasks saved.\n",
            "Loaded Tasks: ['Task 1', 'Task 2', 'Task 3']\n"
          ]
        }
      ]
    },
    {
      "cell_type": "code",
      "source": [
        "import re\n",
        "\n",
        "def func(path):\n",
        "    ans = set()\n",
        "    with open(path, 'r') as f:\n",
        "        for line in f:\n",
        "            res = re.findall(r'#\\w+', line)\n",
        "            ans.update(res)\n",
        "\n",
        "    return sorted(ans)\n",
        "\n",
        "path = 'social.txt.txt'\n",
        "ans = func(path)\n",
        "print(\"Unique Hashtags:\", ans)\n"
      ],
      "metadata": {
        "colab": {
          "base_uri": "https://localhost:8080/"
        },
        "id": "fFHbmrOhfiqZ",
        "outputId": "633da187-e956-4573-f478-75bf0a8139e0"
      },
      "execution_count": 24,
      "outputs": [
        {
          "output_type": "stream",
          "name": "stdout",
          "text": [
            "Unique Hashtags: ['#DataEngineering', '#Python3', '#backend', '#frontend', '#last1']\n"
          ]
        }
      ]
    }
  ]
}